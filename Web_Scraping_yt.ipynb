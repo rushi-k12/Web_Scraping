{
  "nbformat": 4,
  "nbformat_minor": 0,
  "metadata": {
    "colab": {
      "provenance": [],
      "authorship_tag": "ABX9TyOn1nrNX7wr8l1Ivfhypj/8",
      "include_colab_link": true
    },
    "kernelspec": {
      "name": "python3",
      "display_name": "Python 3"
    },
    "language_info": {
      "name": "python"
    }
  },
  "cells": [
    {
      "cell_type": "markdown",
      "metadata": {
        "id": "view-in-github",
        "colab_type": "text"
      },
      "source": [
        "<a href=\"https://colab.research.google.com/github/rushi-k12/Web_Scraping/blob/Youtube/Web_Scraping_yt.ipynb\" target=\"_parent\"><img src=\"https://colab.research.google.com/assets/colab-badge.svg\" alt=\"Open In Colab\"/></a>"
      ]
    },
    {
      "cell_type": "code",
      "execution_count": 7,
      "metadata": {
        "id": "LD9p3roFdZ2b"
      },
      "outputs": [],
      "source": [
        "from pytube import YouTube\n"
      ]
    },
    {
      "cell_type": "code",
      "source": [
        "link = input(\"Enter the video link: \")\n",
        "yt = YouTube(link)"
      ],
      "metadata": {
        "colab": {
          "base_uri": "https://localhost:8080/"
        },
        "id": "pF2sUriTd5J-",
        "outputId": "5b1cf4da-8591-4ed5-a437-665f9152a9b1"
      },
      "execution_count": 8,
      "outputs": [
        {
          "name": "stdout",
          "output_type": "stream",
          "text": [
            "Enter the video link: https://www.youtube.com/watch?v=S7xRvtUXB90\n"
          ]
        }
      ]
    },
    {
      "cell_type": "code",
      "source": [
        "# To print title\n",
        "print(\"Title :\", yt.title)\n",
        "# To get number of views\n",
        "print(\"Views :\", yt.views)\n",
        "# To get the length of video\n",
        "print(\"Duration :\", yt.length)\n",
        "# To get description\n",
        "print(\"Description :\", yt.description)\n",
        "# To get ratings\n",
        "print(\"Ratings :\", yt.rating)"
      ],
      "metadata": {
        "colab": {
          "base_uri": "https://localhost:8080/"
        },
        "id": "smuUm8tJeO-G",
        "outputId": "b88d2b7b-88b4-4619-b1b2-8317826a7e10"
      },
      "execution_count": 9,
      "outputs": [
        {
          "output_type": "stream",
          "name": "stdout",
          "text": [
            "Title : AMERICA LO AMMALU AMMAMALU..!!\n",
            "Views : 93398\n",
            "Duration : 606\n",
            "Description : None\n",
            "Ratings : None\n"
          ]
        }
      ]
    },
    {
      "cell_type": "code",
      "source": [
        "stream = yt.streams.get_highest_resolution()\n",
        "stream.download()\n",
        "print(\"Download completed\")"
      ],
      "metadata": {
        "colab": {
          "base_uri": "https://localhost:8080/"
        },
        "id": "OMkvQDgjeVAc",
        "outputId": "7c0ad03f-594f-4892-bc5e-4b5792084d43"
      },
      "execution_count": 10,
      "outputs": [
        {
          "output_type": "stream",
          "name": "stdout",
          "text": [
            "Download completed\n"
          ]
        }
      ]
    },
    {
      "cell_type": "code",
      "source": [],
      "metadata": {
        "id": "8Grql9PZhC9W"
      },
      "execution_count": null,
      "outputs": []
    }
  ]
}